{
 "cells": [
  {
   "cell_type": "code",
   "execution_count": null,
   "id": "4b663550",
   "metadata": {},
   "outputs": [],
   "source": [
    "using Distributions, Random, Graphs, SparseArrays, StatsBase, DataFrames, Statistics"
   ]
  },
  {
   "cell_type": "code",
   "execution_count": null,
   "id": "a65ab370",
   "metadata": {},
   "outputs": [],
   "source": [
    "function Communication_subgraph(G, p)\n",
    "    CG = copy(G)\n",
    "    for e in edges(G)\n",
    "        ok = rand(Bernoulli(p))\n",
    "        if ok == 0\n",
    "            rem_edge!(CG, e)\n",
    "        end\n",
    "    end\n",
    "    return CG\n",
    "end"
   ]
  },
  {
   "cell_type": "markdown",
   "id": "206e2ff2",
   "metadata": {},
   "source": [
    "# Distance Based Model"
   ]
  },
  {
   "cell_type": "code",
   "execution_count": null,
   "id": "1a911e26",
   "metadata": {},
   "outputs": [],
   "source": [
    "function Distance_Based_Diffusion(G::Graph, S1, S2, p, π)\n",
    "    Cs = Communication_subgraph(G, p)\n",
    "    \n",
    "    intersection = intersect(S1,S2) \n",
    "    pi = rand(Bernoulli(π),length(intersection))\n",
    "    filter!(x->x∉(1 .- pi).*intersection,S1)\n",
    "    filter!(x->x∉(pi).*intersection,S2)\n",
    "    \n",
    "    Dist1 = bellman_ford_shortest_paths(Cs, S1).dists\n",
    "    Dist2 = bellman_ford_shortest_paths(Cs, S2).dists\n",
    "    \n",
    "    Activ1 = Dist2 .> Dist1\n",
    "    Activ2 = Dist1 .> Dist2\n",
    "    Activ = ifelse.(((Dist1 .> nv(G)) .& (Dist2 .> nv(G))) .== 1, 0, 1)\n",
    "    \n",
    "    return sum(Activ1)/nv(G), sum(Activ2)/nv(G), sum(Activ)/nv(G)\n",
    "end"
   ]
  },
  {
   "cell_type": "markdown",
   "id": "3838c4d4",
   "metadata": {},
   "source": [
    "# Wave Propagation Model"
   ]
  },
  {
   "cell_type": "code",
   "execution_count": null,
   "id": "60003ad7",
   "metadata": {},
   "outputs": [],
   "source": [
    "function Wave_Propagation_Diffusion(G::Graph, S1, S2, p)\n",
    "    Cs = Communication_subgraph(G, p)\n",
    "    Pr1 = vec(zeros(nv(G),1))\n",
    "    Pr2 = vec(zeros(nv(G),1))\n",
    "    Pr1[S1] .= 1\n",
    "    Pr2[S2] .= 1\n",
    "    \n",
    "    Dist1 = bellman_ford_shortest_paths(Cs, S1).dists\n",
    "    Dist2 = bellman_ford_shortest_paths(Cs, S2).dists\n",
    "    Dist = bellman_ford_shortest_paths(Cs, vcat(S1,S2)).dists\n",
    "    Dim = maximum(filter(x->x<nv(G),Dist))\n",
    "    \n",
    "    for d in 1:Dim\n",
    "        temp1 = []\n",
    "        temp2 = []\n",
    "        vlist = findall(x->x==d, Dist)\n",
    "        for v in vlist\n",
    "            ns1 = Pr1[neighbors(Cs, v)]\n",
    "            ns2 = Pr2[neighbors(Cs, v)]\n",
    "            push!(temp1,sum(ns1)/length(findall(x->x!=0, ns1+ns2)))\n",
    "            push!(temp2,sum(ns2)/length(findall(x->x!=0, ns1+ns2)))\n",
    "        end\n",
    "        Pr1[vlist] .= temp1\n",
    "        Pr2[vlist] .= temp2\n",
    "    end\n",
    "    return sum(Pr1)/nv(G), sum(Pr2)/nv(G)\n",
    "end"
   ]
  },
  {
   "cell_type": "markdown",
   "id": "30b227bc",
   "metadata": {},
   "source": [
    "# Competitive Cascade Model"
   ]
  },
  {
   "cell_type": "code",
   "execution_count": null,
   "id": "700b73fc",
   "metadata": {},
   "outputs": [],
   "source": [
    "function competitive_cascade(G::Graph, S1, S2, p, π)\n",
    "    n = nv(G)\n",
    "    Cs = Communication_subgraph(G, p)\n",
    "    intersection = intersect(S1,S2)\n",
    "    pi = rand(Bernoulli(π),length(intersection))\n",
    "    filter!(x->x∉(1 .- pi).*intersection,S1)\n",
    "    filter!(x->x∉(pi).*intersection,S2)\n",
    "    lately_informed1 = copy(S1)\n",
    "    lately_informed2 = copy(S2)\n",
    "    Dist = bellman_ford_shortest_paths(Cs, vcat(S1,S2)).dists\n",
    "    Dim = maximum(filter(x -> x<n, Dist))\n",
    "    informed1 = copy(S1)\n",
    "    informed2 = copy(S2)\n",
    "    tree = zeros(Dim+1, n)\n",
    "    tree[1, S1] .= 1\n",
    "    tree[1, S2] .= 2\n",
    "    for l in 1:Dim\n",
    "        Dist = bellman_ford_shortest_paths(Cs, lately_informed1).dists\n",
    "        new_informed1 = setdiff(findall(==(1), Dist), union(informed1,informed2))\n",
    "        Dist = bellman_ford_shortest_paths(Cs, lately_informed2).dists\n",
    "        new_informed2 = setdiff(findall(==(1), Dist), union(informed1,informed2))\n",
    "        intersection = intersect(new_informed1, new_informed2)\n",
    "        pi = rand(Bernoulli(π),length(intersection))\n",
    "        filter!(x->x∉(1 .- pi).*intersection, new_informed1)\n",
    "        filter!(x->x∉(pi).*intersection, new_informed2)\n",
    "        tree[l+1, new_informed1] .= 1\n",
    "        tree[l+1, new_informed2] .= 2\n",
    "        lately_informed1 = copy(new_informed1)\n",
    "        lately_informed2 = copy(new_informed2)\n",
    "        informed1 = union(informed1, lately_informed1)\n",
    "        informed2 = union(informed2, lately_informed2)\n",
    "    end\n",
    "    return length(informed1)/n, length(informed2)/n\n",
    "end"
   ]
  }
 ],
 "metadata": {
  "kernelspec": {
   "display_name": "Julia auto Threads 1.7.2",
   "language": "julia",
   "name": "julia-auto-threads-1.7"
  },
  "language_info": {
   "file_extension": ".jl",
   "mimetype": "application/julia",
   "name": "julia",
   "version": "1.7.2"
  }
 },
 "nbformat": 4,
 "nbformat_minor": 5
}
